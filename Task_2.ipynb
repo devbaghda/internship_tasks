{
 "cells": [
  {
   "cell_type": "markdown",
   "metadata": {},
   "source": [
    "### ИНФО"
   ]
  },
  {
   "cell_type": "markdown",
   "metadata": {},
   "source": [
    "Имеется исходник с различными оценками асессоров.\n",
    "\n",
    "Формат исходника: \n",
    "- login — логин асессора\n",
    "- uid — id асессора (user id)\n",
    "- docid — id оцениваемого документа (document id)\n",
    "- jud — оценка асессора (judgement)\n",
    "- cjud — правильная оценка (correct judgement)\n",
    "\n",
    "разделитель — табуляция \\t.\n",
    "\n",
    "Оценки могут принимать значение [0, 1], т.е. задание, которое сделали асессоры, имеет бинарную шкалу.\n",
    "Используя данные об оценках, установите, какие асессоры хуже всего справились с заданием. На какие показатели вы ориентировались и какие метрики вы использовали для ответа на этот вопрос? Можно ли предложить какие-то новые метрики для подсчета качества асессоров с учетом природы оценок у этого бинарного задания?"
   ]
  },
  {
   "cell_type": "markdown",
   "metadata": {},
   "source": [
    "### ИМПОРТ ИНСТРУМЕНТОВ"
   ]
  },
  {
   "cell_type": "code",
   "execution_count": 150,
   "metadata": {},
   "outputs": [],
   "source": [
    "import pandas as pd\n",
    "import numpy as np"
   ]
  },
  {
   "cell_type": "markdown",
   "metadata": {},
   "source": [
    "### ОЗНАКОМЛЕНИЕ С ДАННЫМИ"
   ]
  },
  {
   "cell_type": "code",
   "execution_count": 151,
   "metadata": {},
   "outputs": [],
   "source": [
    "db=pd.read_csv(r'C:\\Users\\devba\\Documents\\DataScience\\Vacancies\\файл 2.csv',sep='\\t')"
   ]
  },
  {
   "cell_type": "code",
   "execution_count": 152,
   "metadata": {},
   "outputs": [
    {
     "data": {
      "text/html": [
       "<div>\n",
       "<style scoped>\n",
       "    .dataframe tbody tr th:only-of-type {\n",
       "        vertical-align: middle;\n",
       "    }\n",
       "\n",
       "    .dataframe tbody tr th {\n",
       "        vertical-align: top;\n",
       "    }\n",
       "\n",
       "    .dataframe thead th {\n",
       "        text-align: right;\n",
       "    }\n",
       "</style>\n",
       "<table border=\"1\" class=\"dataframe\">\n",
       "  <thead>\n",
       "    <tr style=\"text-align: right;\">\n",
       "      <th></th>\n",
       "      <th>login</th>\n",
       "      <th>uid</th>\n",
       "      <th>docid</th>\n",
       "      <th>jud</th>\n",
       "      <th>cjud</th>\n",
       "    </tr>\n",
       "  </thead>\n",
       "  <tbody>\n",
       "    <tr>\n",
       "      <th>103770</th>\n",
       "      <td>assessor374</td>\n",
       "      <td>374</td>\n",
       "      <td>20754</td>\n",
       "      <td>0</td>\n",
       "      <td>0</td>\n",
       "    </tr>\n",
       "    <tr>\n",
       "      <th>119030</th>\n",
       "      <td>assessor40</td>\n",
       "      <td>40</td>\n",
       "      <td>23806</td>\n",
       "      <td>1</td>\n",
       "      <td>1</td>\n",
       "    </tr>\n",
       "    <tr>\n",
       "      <th>61443</th>\n",
       "      <td>assessor75</td>\n",
       "      <td>75</td>\n",
       "      <td>12288</td>\n",
       "      <td>0</td>\n",
       "      <td>0</td>\n",
       "    </tr>\n",
       "    <tr>\n",
       "      <th>90905</th>\n",
       "      <td>assessor178</td>\n",
       "      <td>178</td>\n",
       "      <td>18181</td>\n",
       "      <td>0</td>\n",
       "      <td>0</td>\n",
       "    </tr>\n",
       "    <tr>\n",
       "      <th>39013</th>\n",
       "      <td>assessor490</td>\n",
       "      <td>490</td>\n",
       "      <td>7802</td>\n",
       "      <td>0</td>\n",
       "      <td>0</td>\n",
       "    </tr>\n",
       "    <tr>\n",
       "      <th>202782</th>\n",
       "      <td>assessor443</td>\n",
       "      <td>443</td>\n",
       "      <td>40556</td>\n",
       "      <td>0</td>\n",
       "      <td>0</td>\n",
       "    </tr>\n",
       "    <tr>\n",
       "      <th>184248</th>\n",
       "      <td>assessor580</td>\n",
       "      <td>580</td>\n",
       "      <td>36849</td>\n",
       "      <td>0</td>\n",
       "      <td>0</td>\n",
       "    </tr>\n",
       "    <tr>\n",
       "      <th>83883</th>\n",
       "      <td>assessor493</td>\n",
       "      <td>493</td>\n",
       "      <td>16776</td>\n",
       "      <td>0</td>\n",
       "      <td>1</td>\n",
       "    </tr>\n",
       "    <tr>\n",
       "      <th>7054</th>\n",
       "      <td>assessor479</td>\n",
       "      <td>479</td>\n",
       "      <td>1410</td>\n",
       "      <td>0</td>\n",
       "      <td>0</td>\n",
       "    </tr>\n",
       "    <tr>\n",
       "      <th>221031</th>\n",
       "      <td>assessor354</td>\n",
       "      <td>354</td>\n",
       "      <td>44206</td>\n",
       "      <td>0</td>\n",
       "      <td>0</td>\n",
       "    </tr>\n",
       "  </tbody>\n",
       "</table>\n",
       "</div>"
      ],
      "text/plain": [
       "              login  uid  docid  jud  cjud\n",
       "103770  assessor374  374  20754    0     0\n",
       "119030   assessor40   40  23806    1     1\n",
       "61443    assessor75   75  12288    0     0\n",
       "90905   assessor178  178  18181    0     0\n",
       "39013   assessor490  490   7802    0     0\n",
       "202782  assessor443  443  40556    0     0\n",
       "184248  assessor580  580  36849    0     0\n",
       "83883   assessor493  493  16776    0     1\n",
       "7054    assessor479  479   1410    0     0\n",
       "221031  assessor354  354  44206    0     0"
      ]
     },
     "execution_count": 152,
     "metadata": {},
     "output_type": "execute_result"
    }
   ],
   "source": [
    "db.sample(10)"
   ]
  },
  {
   "cell_type": "code",
   "execution_count": 153,
   "metadata": {
    "scrolled": true
   },
   "outputs": [
    {
     "data": {
      "text/plain": [
       "(250000, 5)"
      ]
     },
     "execution_count": 153,
     "metadata": {},
     "output_type": "execute_result"
    }
   ],
   "source": [
    "db.shape"
   ]
  },
  {
   "cell_type": "code",
   "execution_count": 154,
   "metadata": {},
   "outputs": [
    {
     "data": {
      "text/plain": [
       "600"
      ]
     },
     "execution_count": 154,
     "metadata": {},
     "output_type": "execute_result"
    }
   ],
   "source": [
    "db.uid.nunique()"
   ]
  },
  {
   "cell_type": "code",
   "execution_count": 155,
   "metadata": {},
   "outputs": [
    {
     "data": {
      "text/plain": [
       "50000"
      ]
     },
     "execution_count": 155,
     "metadata": {},
     "output_type": "execute_result"
    }
   ],
   "source": [
    "db.docid.nunique()"
   ]
  },
  {
   "cell_type": "code",
   "execution_count": 156,
   "metadata": {},
   "outputs": [
    {
     "name": "stdout",
     "output_type": "stream",
     "text": [
      "<class 'pandas.core.frame.DataFrame'>\n",
      "RangeIndex: 250000 entries, 0 to 249999\n",
      "Data columns (total 5 columns):\n",
      " #   Column  Non-Null Count   Dtype \n",
      "---  ------  --------------   ----- \n",
      " 0   login   250000 non-null  object\n",
      " 1   uid     250000 non-null  int64 \n",
      " 2   docid   250000 non-null  int64 \n",
      " 3   jud     250000 non-null  int64 \n",
      " 4   cjud    250000 non-null  int64 \n",
      "dtypes: int64(4), object(1)\n",
      "memory usage: 9.5+ MB\n"
     ]
    }
   ],
   "source": [
    "db.info()"
   ]
  },
  {
   "cell_type": "markdown",
   "metadata": {},
   "source": [
    "в таблице 250 000 строк, пропусков информации нет\n",
    "в таблице присутствуют данные об оценках 600 асессоров, которые оценивали 50 000 уникальных документов"
   ]
  },
  {
   "cell_type": "markdown",
   "metadata": {},
   "source": [
    "### ГЕНЕРАЦИЯ НОВЫХ ДАННЫХ"
   ]
  },
  {
   "cell_type": "code",
   "execution_count": 184,
   "metadata": {},
   "outputs": [],
   "source": [
    "'''создадим новый столбец, который будет оценивать верна ли оценка асессора или нет\n",
    "0 - оценка асессора была неверна\n",
    "1 - оценка асессора была верна\n",
    "\n",
    "возможны 4 варианта: \n",
    "    jud     cjud\n",
    "    0        0\n",
    "    1        1\n",
    "    1        0\n",
    "    0        1\n",
    "    \n",
    "в первых двух случаях в новый столбец запишется значение \"1\", в 3 и 4 случаях: 0'''\n",
    "\n",
    "db['conclusion']=(db.jud+db.cjud)/2\n",
    "db.cocnlusion=db.conclusion.replace(0,1,inplace=True)\n",
    "db.cocnlusion=db.conclusion.replace(0.5,0,inplace=True)"
   ]
  },
  {
   "cell_type": "markdown",
   "metadata": {},
   "source": [
    "### АНАЛИЗ И УМОЗАКЛЮЧЕНИЕ"
   ]
  },
  {
   "cell_type": "code",
   "execution_count": 186,
   "metadata": {},
   "outputs": [
    {
     "data": {
      "text/plain": [
       "uid\n",
       "63     0.92\n",
       "151    0.92\n",
       "184    0.92\n",
       "38     0.92\n",
       "528    0.92\n",
       "       ... \n",
       "390    0.48\n",
       "118    0.48\n",
       "234    0.48\n",
       "3      0.46\n",
       "56     0.43\n",
       "Name: conclusion, Length: 600, dtype: float64"
      ]
     },
     "execution_count": 186,
     "metadata": {},
     "output_type": "execute_result"
    }
   ],
   "source": [
    "# Среднее от результатов покажет насколько асессор был эффективен в своих оценках. \n",
    "# Чем больше среднее, тем больше у него было правильных оценок (1), и тем он более эффективен\n",
    "performance_stat=db.groupby('uid').conclusion.mean().round(2).sort_values(ascending=False)\n",
    "performance_stat"
   ]
  },
  {
   "cell_type": "code",
   "execution_count": 187,
   "metadata": {},
   "outputs": [
    {
     "data": {
      "text/plain": [
       "count    600.000000\n",
       "mean       0.840767\n",
       "std        0.055506\n",
       "min        0.430000\n",
       "25%        0.810000\n",
       "50%        0.830000\n",
       "75%        0.890000\n",
       "max        0.920000\n",
       "Name: conclusion, dtype: float64"
      ]
     },
     "execution_count": 187,
     "metadata": {},
     "output_type": "execute_result"
    }
   ],
   "source": [
    "performance_stat.describe()"
   ]
  },
  {
   "cell_type": "markdown",
   "metadata": {},
   "source": [
    "Видим, что при стандартном отклонении = 0.056 и медиане 0.83 минимальное значение в нашем столбце ю 0.43. Очевидно присутствую выбросы. Проверим"
   ]
  },
  {
   "cell_type": "code",
   "execution_count": 188,
   "metadata": {},
   "outputs": [
    {
     "data": {
      "text/plain": [
       "<matplotlib.axes._subplots.AxesSubplot at 0x17abb6e9e88>"
      ]
     },
     "execution_count": 188,
     "metadata": {},
     "output_type": "execute_result"
    },
    {
     "data": {
      "image/png": "[encoded data removed]",
      "text/plain": [
       "<Figure size 432x288 with 1 Axes>"
      ]
     },
     "metadata": {
      "needs_background": "light"
     },
     "output_type": "display_data"
    }
   ],
   "source": [
    "performance_stat.hist()"
   ]
  },
  {
   "cell_type": "markdown",
   "metadata": {},
   "source": [
    "выбросы действительно присутствуют, вычислив их мы как раз и найдем тех асессоров, кто хуже всего справился с заданием"
   ]
  },
  {
   "cell_type": "code",
   "execution_count": 191,
   "metadata": {},
   "outputs": [],
   "source": [
    "#функция для отбрасывания выбросов\n",
    "\n",
    "def outliers(column):\n",
    "    Q1 = column.quantile(0.25)\n",
    "    Q3 = column.quantile(0.75)\n",
    "    IQR = Q3-Q1\n",
    "    l_boundary=Q1-1.5*IQR\n",
    "    h_boundary=Q3+1.5*IQR\n",
    "    \n",
    "    outliers = column[~column.between(l_boundary, h_boundary)]\n",
    "    n_outl=outliers.count()\n",
    "    p_outl=np.round(n_outl*100/len(db),2)\n",
    "    print('Minor boundries are ({},{})\\n There are {} or {}% outlying values'\\\n",
    "          .format(l_boundary,h_boundary,n_outl,p_outl))\n",
    "    \n",
    "    inp=input('Clear outliers?\\n Input Y (for yes) or N (for no): ')\n",
    "    \n",
    "    if inp=='Y': \n",
    "        if (type(l_boundary)==int)|(type(l_boundary)==np.float64):\n",
    "            column=column[column.between(l_boundary, h_boundary)]\n",
    "        else: \n",
    "            column=column[column.between(str(l_boundary), str(h_boundary))]\n",
    "    else: \n",
    "        column=column\n",
    "    \n",
    "    return column"
   ]
  },
  {
   "cell_type": "code",
   "execution_count": 190,
   "metadata": {},
   "outputs": [
    {
     "name": "stdout",
     "output_type": "stream",
     "text": [
      "Minor boundries are (0.6900000000000002,1.01)\n",
      " There are 5 or 0.0% outlying values\n",
      "Clear outliers?\n",
      " Input Y (for yes) or N (for no): Y\n"
     ]
    },
    {
     "data": {
      "text/plain": [
       "<matplotlib.axes._subplots.AxesSubplot at 0x17abd9b1b88>"
      ]
     },
     "execution_count": 190,
     "metadata": {},
     "output_type": "execute_result"
    },
    {
     "data": {
      "image/png": "[encoded data removed]",
      "text/plain": [
       "<Figure size 432x288 with 1 Axes>"
      ]
     },
     "metadata": {
      "needs_background": "light"
     },
     "output_type": "display_data"
    }
   ],
   "source": [
    "outliers(performance_stat).hist()"
   ]
  },
  {
   "cell_type": "markdown",
   "metadata": {},
   "source": [
    "Из полученного следует, что все значения performance_stat, которые были ниже 0.725 являлись статистическими выбросами и были отфильтрованы."
   ]
  },
  {
   "cell_type": "code",
   "execution_count": 163,
   "metadata": {},
   "outputs": [
    {
     "data": {
      "text/plain": [
       "uid\n",
       "390    0.48\n",
       "118    0.48\n",
       "234    0.48\n",
       "3      0.46\n",
       "56     0.43\n",
       "Name: conclusion, dtype: float64"
      ]
     },
     "execution_count": 163,
     "metadata": {},
     "output_type": "execute_result"
    }
   ],
   "source": [
    "performance_stat[performance_stat<0.725]"
   ]
  },
  {
   "cell_type": "markdown",
   "metadata": {},
   "source": [
    "Умозаключение : Хуже всего с оценкой справились асессоры uid3, uid56, uid118, uid234, uid390, так как их результаты слишком сильно отличаются от общей картины"
   ]
  },
  {
   "cell_type": "markdown",
   "metadata": {},
   "source": [
    "#### дополнительная идея"
   ]
  },
  {
   "cell_type": "markdown",
   "metadata": {},
   "source": [
    "При ознакомлении с документом, было выявлено, что наши данные содержат информацию о раоте 600 асессоров над 50 000 документов, при этом записей в таблице - 250 000. Это указывает на то, что один и тот же документ подавался на проверку нескольким асессорам. Проверим:"
   ]
  },
  {
   "cell_type": "code",
   "execution_count": 168,
   "metadata": {},
   "outputs": [
    {
     "data": {
      "text/plain": [
       "count    50000.0\n",
       "mean         5.0\n",
       "std          0.0\n",
       "min          5.0\n",
       "25%          5.0\n",
       "50%          5.0\n",
       "75%          5.0\n",
       "max          5.0\n",
       "Name: conclusion, dtype: float64"
      ]
     },
     "execution_count": 168,
     "metadata": {},
     "output_type": "execute_result"
    }
   ],
   "source": [
    "db.groupby('docid').conclusion.count().describe()"
   ]
  },
  {
   "cell_type": "markdown",
   "metadata": {},
   "source": [
    "Выяняется, что каждый из 50 000 документов проверялся 5-ью различными асессорами. \n",
    "По каждому из них нам известен результат: асессор ошибся или был прав. В вводных данных ничего не говорилось об однотипности документов, следовательно, если сопоставить два документа по числу ошибшихся асессоров, то можно будет сделать косвенный вывод о сложности документа. Этот коэфициент можно далее использовать в качестве веса при оценке результативности отдельного асессора. Т.е, если показатели  performance_stat двух асессоров, равны, например 0.81 и 0.79 соответственно, но при этом второму попадались более сложные документы на оценку, то весовой коэфициент как раз поможет выявить такие ситуации.  "
   ]
  },
  {
   "cell_type": "code",
   "execution_count": 202,
   "metadata": {
    "scrolled": true
   },
   "outputs": [
    {
     "data": {
      "text/plain": [
       "docid\n",
       "2906     1.0\n",
       "9457     1.0\n",
       "34709    1.0\n",
       "41326    1.0\n",
       "25274    0.8\n",
       "        ... \n",
       "26678    0.0\n",
       "26685    0.0\n",
       "26686    0.0\n",
       "26688    0.0\n",
       "0        0.0\n",
       "Name: conclusion, Length: 50000, dtype: float64"
      ]
     },
     "execution_count": 202,
     "metadata": {},
     "output_type": "execute_result"
    }
   ],
   "source": [
    "doc_diff=1-db.groupby('docid').conclusion.sum()/5\n",
    "doc_diff.sort_values(ascending=False)"
   ]
  },
  {
   "cell_type": "markdown",
   "metadata": {},
   "source": [
    "Чем выше полученный коэфициент, тем сложнее документ для проверки (больше асессоров оценили его неправильно), а следовательно ценнее асессор, правильно оценивший такие документы."
   ]
  },
  {
   "cell_type": "markdown",
   "metadata": {},
   "source": [
    "Далее надо добавить столбец 'doc_diff' в нашу таблицу, где перед каждым документом будет стоять оценка его сложности, а также performance_stat_weighted, рассчитанный не просто как среднее от от колонки conclusion, a как среднее от (conclusion x doc_diff). Полученные показатели будут отражать эффективность асессоров с учетом сложности проверяемых ими заданий. "
   ]
  }
 ],
 "metadata": {
  "kernelspec": {
   "display_name": "Python 3",
   "language": "python",
   "name": "python3"
  },
  "language_info": {
   "codemirror_mode": {
    "name": "ipython",
    "version": 3
   },
   "file_extension": ".py",
   "mimetype": "text/x-python",
   "name": "python",
   "nbconvert_exporter": "python",
   "pygments_lexer": "ipython3",
   "version": "3.7.6"
  },
  "toc": {
   "base_numbering": 1,
   "nav_menu": {},
   "number_sections": true,
   "sideBar": true,
   "skip_h1_title": false,
   "title_cell": "Table of Contents",
   "title_sidebar": "Contents",
   "toc_cell": false,
   "toc_position": {},
   "toc_section_display": true,
   "toc_window_display": false
  }
 },
 "nbformat": 4,
 "nbformat_minor": 4
}
