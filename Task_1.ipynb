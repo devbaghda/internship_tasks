{
 "cells": [
  {
   "cell_type": "markdown",
   "metadata": {},
   "source": [
    "### ИНФО"
   ]
  },
  {
   "cell_type": "markdown",
   "metadata": {},
   "source": [
    "Имеется выгрузка с временной статистикой работы асессоров над однотипным заданием.Задание может состоять из одного или несколько микрозаданий. Время резервирования задания (assigned_ts) указывает на тот момент, когда система назначила определенного асессора исполнителем этого задания. Этот момент может совпадать с временем начала работы асессора над заданием, а может и не совпадать (асессор может отойти выпить чаю, а потом приступить к заданию, асессор может выполнять предыдущее задание, в то время как за ним зарезервированы новые).\n",
    "Предположим, что асессор за 30 секунд своего рабочего времени получает N рублей.\n",
    "Какую оплату вы считаете справедливой для выполнения асессором одного микрозадания из этого файла? Опишите подробно все этапы вашего решения.\n",
    "\n",
    "\n",
    "Формат исходника: \n",
    " - login — логин асессора\n",
    " - tid — id оцениваемого задания (task id)\n",
    " - Microtasks – количество микрозаданий в одном задании\n",
    " - assigned_ts — время резервирования системой задания для асессора\n",
    " - closed_ts — точное время завершения работы над заданием\n",
    " \n",
    " разделитель — табуляция \\t"
   ]
  },
  {
   "cell_type": "markdown",
   "metadata": {},
   "source": [
    "### ИМПОРТ ИНСТРУМЕНТОВ"
   ]
  },
  {
   "cell_type": "code",
   "execution_count": 18,
   "metadata": {},
   "outputs": [],
   "source": [
    "#импортируем необходимые библиотеки\n",
    "import pandas as pd\n",
    "import numpy as np\n",
    "import datetime as dt \n",
    "from scipy.stats import t\n",
    "import math"
   ]
  },
  {
   "cell_type": "markdown",
   "metadata": {},
   "source": [
    "### ОЗНАКОМЛЕНИЕ С ДАННЫМИ"
   ]
  },
  {
   "cell_type": "code",
   "execution_count": 19,
   "metadata": {},
   "outputs": [],
   "source": [
    "#читаем файл с предустановкой форматов для каждого из столбцов и распознованием дат\n",
    "dtypes={'login': 'str', 'tid': 'int', 'Microtasks': 'int', 'assigned_ts': 'str', 'closed_ts':'str'}\n",
    "parse_dates=['assigned_ts','closed_ts']\n",
    "db=pd.read_csv(r'C:\\Users\\devba\\Documents\\DataScience\\Vacancies\\файл 1.txt',sep='\\t', dtype=dtypes, parse_dates=parse_dates)"
   ]
  },
  {
   "cell_type": "code",
   "execution_count": 20,
   "metadata": {},
   "outputs": [
    {
     "data": {
      "text/html": [
       "<div>\n",
       "<style scoped>\n",
       "    .dataframe tbody tr th:only-of-type {\n",
       "        vertical-align: middle;\n",
       "    }\n",
       "\n",
       "    .dataframe tbody tr th {\n",
       "        vertical-align: top;\n",
       "    }\n",
       "\n",
       "    .dataframe thead th {\n",
       "        text-align: right;\n",
       "    }\n",
       "</style>\n",
       "<table border=\"1\" class=\"dataframe\">\n",
       "  <thead>\n",
       "    <tr style=\"text-align: right;\">\n",
       "      <th></th>\n",
       "      <th>login</th>\n",
       "      <th>tid</th>\n",
       "      <th>Microtasks</th>\n",
       "      <th>assigned_ts</th>\n",
       "      <th>closed_ts</th>\n",
       "    </tr>\n",
       "  </thead>\n",
       "  <tbody>\n",
       "    <tr>\n",
       "      <th>16194</th>\n",
       "      <td>login7</td>\n",
       "      <td>195084352</td>\n",
       "      <td>1</td>\n",
       "      <td>2017-05-12 02:33:44</td>\n",
       "      <td>2017-05-12 02:36:27</td>\n",
       "    </tr>\n",
       "    <tr>\n",
       "      <th>131607</th>\n",
       "      <td>login132</td>\n",
       "      <td>190734192</td>\n",
       "      <td>4</td>\n",
       "      <td>2017-04-21 19:03:57</td>\n",
       "      <td>2017-04-21 19:06:16</td>\n",
       "    </tr>\n",
       "    <tr>\n",
       "      <th>61452</th>\n",
       "      <td>login62</td>\n",
       "      <td>194236860</td>\n",
       "      <td>1</td>\n",
       "      <td>2017-05-07 15:16:26</td>\n",
       "      <td>2017-05-07 15:31:45</td>\n",
       "    </tr>\n",
       "    <tr>\n",
       "      <th>697428</th>\n",
       "      <td>login755</td>\n",
       "      <td>170726870</td>\n",
       "      <td>6</td>\n",
       "      <td>2017-05-25 23:59:49</td>\n",
       "      <td>2017-05-26 00:04:15</td>\n",
       "    </tr>\n",
       "    <tr>\n",
       "      <th>383749</th>\n",
       "      <td>login418</td>\n",
       "      <td>196789282</td>\n",
       "      <td>7</td>\n",
       "      <td>2017-05-21 21:53:43</td>\n",
       "      <td>2017-05-21 21:55:49</td>\n",
       "    </tr>\n",
       "    <tr>\n",
       "      <th>408036</th>\n",
       "      <td>login438</td>\n",
       "      <td>197757984</td>\n",
       "      <td>1</td>\n",
       "      <td>2017-05-27 11:32:54</td>\n",
       "      <td>2017-05-27 11:33:04</td>\n",
       "    </tr>\n",
       "    <tr>\n",
       "      <th>637768</th>\n",
       "      <td>login699</td>\n",
       "      <td>190593520</td>\n",
       "      <td>2</td>\n",
       "      <td>2017-04-20 14:12:15</td>\n",
       "      <td>2017-04-20 14:16:11</td>\n",
       "    </tr>\n",
       "    <tr>\n",
       "      <th>192838</th>\n",
       "      <td>login179</td>\n",
       "      <td>193753592</td>\n",
       "      <td>1</td>\n",
       "      <td>2017-05-04 13:38:50</td>\n",
       "      <td>2017-05-04 13:40:31</td>\n",
       "    </tr>\n",
       "    <tr>\n",
       "      <th>351075</th>\n",
       "      <td>login373</td>\n",
       "      <td>195038968</td>\n",
       "      <td>2</td>\n",
       "      <td>2017-05-11 22:46:01</td>\n",
       "      <td>2017-05-11 22:46:44</td>\n",
       "    </tr>\n",
       "    <tr>\n",
       "      <th>64881</th>\n",
       "      <td>login65</td>\n",
       "      <td>171134330</td>\n",
       "      <td>3</td>\n",
       "      <td>2017-05-30 20:20:07</td>\n",
       "      <td>2017-05-31 09:46:56</td>\n",
       "    </tr>\n",
       "  </tbody>\n",
       "</table>\n",
       "</div>"
      ],
      "text/plain": [
       "           login        tid  Microtasks         assigned_ts  \\\n",
       "16194     login7  195084352           1 2017-05-12 02:33:44   \n",
       "131607  login132  190734192           4 2017-04-21 19:03:57   \n",
       "61452    login62  194236860           1 2017-05-07 15:16:26   \n",
       "697428  login755  170726870           6 2017-05-25 23:59:49   \n",
       "383749  login418  196789282           7 2017-05-21 21:53:43   \n",
       "408036  login438  197757984           1 2017-05-27 11:32:54   \n",
       "637768  login699  190593520           2 2017-04-20 14:12:15   \n",
       "192838  login179  193753592           1 2017-05-04 13:38:50   \n",
       "351075  login373  195038968           2 2017-05-11 22:46:01   \n",
       "64881    login65  171134330           3 2017-05-30 20:20:07   \n",
       "\n",
       "                 closed_ts  \n",
       "16194  2017-05-12 02:36:27  \n",
       "131607 2017-04-21 19:06:16  \n",
       "61452  2017-05-07 15:31:45  \n",
       "697428 2017-05-26 00:04:15  \n",
       "383749 2017-05-21 21:55:49  \n",
       "408036 2017-05-27 11:33:04  \n",
       "637768 2017-04-20 14:16:11  \n",
       "192838 2017-05-04 13:40:31  \n",
       "351075 2017-05-11 22:46:44  \n",
       "64881  2017-05-31 09:46:56  "
      ]
     },
     "execution_count": 20,
     "metadata": {},
     "output_type": "execute_result"
    }
   ],
   "source": [
    "#так выглядят записи нашей таблицы\n",
    "db.sample(10)"
   ]
  },
  {
   "cell_type": "code",
   "execution_count": 5,
   "metadata": {},
   "outputs": [
    {
     "name": "stdout",
     "output_type": "stream",
     "text": [
      "<class 'pandas.core.frame.DataFrame'>\n",
      "RangeIndex: 701827 entries, 0 to 701826\n",
      "Data columns (total 5 columns):\n",
      " #   Column       Non-Null Count   Dtype         \n",
      "---  ------       --------------   -----         \n",
      " 0   login        701827 non-null  object        \n",
      " 1   tid          701827 non-null  int32         \n",
      " 2   Microtasks   701827 non-null  int32         \n",
      " 3   assigned_ts  701827 non-null  datetime64[ns]\n",
      " 4   closed_ts    701827 non-null  datetime64[ns]\n",
      "dtypes: datetime64[ns](2), int32(2), object(1)\n",
      "memory usage: 21.4+ MB\n"
     ]
    }
   ],
   "source": [
    "db.info()"
   ]
  },
  {
   "cell_type": "markdown",
   "metadata": {},
   "source": [
    "пропусков в данных нет , всего в таблице 701827 строк "
   ]
  },
  {
   "cell_type": "markdown",
   "metadata": {},
   "source": [
    "### ГЕНЕРАЦИЯ НОВЫХ ДАННЫХ"
   ]
  },
  {
   "cell_type": "code",
   "execution_count": 22,
   "metadata": {},
   "outputs": [],
   "source": [
    "#введем новый столбец, показывающий время, затраченное на выполнение каждого задания\n",
    "db['time_per_task']=(db.closed_ts-db.assigned_ts).dt.seconds"
   ]
  },
  {
   "cell_type": "code",
   "execution_count": 23,
   "metadata": {},
   "outputs": [],
   "source": [
    "#введем новый столбец, показывающий время, затраченное на выполнение каждого микрозадания\n",
    "db['av_time_per_microtask']=np.round(db.time_per_task/db.Microtasks,2)"
   ]
  },
  {
   "cell_type": "code",
   "execution_count": 8,
   "metadata": {
    "scrolled": true
   },
   "outputs": [
    {
     "data": {
      "text/html": [
       "<div>\n",
       "<style scoped>\n",
       "    .dataframe tbody tr th:only-of-type {\n",
       "        vertical-align: middle;\n",
       "    }\n",
       "\n",
       "    .dataframe tbody tr th {\n",
       "        vertical-align: top;\n",
       "    }\n",
       "\n",
       "    .dataframe thead th {\n",
       "        text-align: right;\n",
       "    }\n",
       "</style>\n",
       "<table border=\"1\" class=\"dataframe\">\n",
       "  <thead>\n",
       "    <tr style=\"text-align: right;\">\n",
       "      <th></th>\n",
       "      <th>login</th>\n",
       "      <th>tid</th>\n",
       "      <th>Microtasks</th>\n",
       "      <th>assigned_ts</th>\n",
       "      <th>closed_ts</th>\n",
       "      <th>time_per_task</th>\n",
       "      <th>av_time_per_microtask</th>\n",
       "    </tr>\n",
       "  </thead>\n",
       "  <tbody>\n",
       "    <tr>\n",
       "      <th>545857</th>\n",
       "      <td>login595</td>\n",
       "      <td>194960462</td>\n",
       "      <td>1</td>\n",
       "      <td>2017-05-11 13:26:43</td>\n",
       "      <td>2017-05-12 08:24:33</td>\n",
       "      <td>68270</td>\n",
       "      <td>68270.00</td>\n",
       "    </tr>\n",
       "    <tr>\n",
       "      <th>656628</th>\n",
       "      <td>login718</td>\n",
       "      <td>190565212</td>\n",
       "      <td>1</td>\n",
       "      <td>2017-04-20 18:25:48</td>\n",
       "      <td>2017-04-20 18:26:16</td>\n",
       "      <td>28</td>\n",
       "      <td>28.00</td>\n",
       "    </tr>\n",
       "    <tr>\n",
       "      <th>331930</th>\n",
       "      <td>login345</td>\n",
       "      <td>191327804</td>\n",
       "      <td>1</td>\n",
       "      <td>2017-04-23 14:30:30</td>\n",
       "      <td>2017-04-23 14:35:15</td>\n",
       "      <td>285</td>\n",
       "      <td>285.00</td>\n",
       "    </tr>\n",
       "    <tr>\n",
       "      <th>633676</th>\n",
       "      <td>login698</td>\n",
       "      <td>184144100</td>\n",
       "      <td>2</td>\n",
       "      <td>2017-04-27 10:10:38</td>\n",
       "      <td>2017-04-27 10:14:03</td>\n",
       "      <td>205</td>\n",
       "      <td>102.50</td>\n",
       "    </tr>\n",
       "    <tr>\n",
       "      <th>420585</th>\n",
       "      <td>login464</td>\n",
       "      <td>192519516</td>\n",
       "      <td>7</td>\n",
       "      <td>2017-04-28 12:03:39</td>\n",
       "      <td>2017-04-28 12:14:24</td>\n",
       "      <td>645</td>\n",
       "      <td>92.14</td>\n",
       "    </tr>\n",
       "    <tr>\n",
       "      <th>257712</th>\n",
       "      <td>login250</td>\n",
       "      <td>195509666</td>\n",
       "      <td>1</td>\n",
       "      <td>2017-05-15 09:56:15</td>\n",
       "      <td>2017-05-15 09:56:32</td>\n",
       "      <td>17</td>\n",
       "      <td>17.00</td>\n",
       "    </tr>\n",
       "    <tr>\n",
       "      <th>683569</th>\n",
       "      <td>login745</td>\n",
       "      <td>191097268</td>\n",
       "      <td>2</td>\n",
       "      <td>2017-04-22 15:15:57</td>\n",
       "      <td>2017-04-22 15:17:07</td>\n",
       "      <td>70</td>\n",
       "      <td>35.00</td>\n",
       "    </tr>\n",
       "    <tr>\n",
       "      <th>255904</th>\n",
       "      <td>login250</td>\n",
       "      <td>190724728</td>\n",
       "      <td>2</td>\n",
       "      <td>2017-04-22 03:45:57</td>\n",
       "      <td>2017-04-22 03:49:14</td>\n",
       "      <td>197</td>\n",
       "      <td>98.50</td>\n",
       "    </tr>\n",
       "    <tr>\n",
       "      <th>166667</th>\n",
       "      <td>login153</td>\n",
       "      <td>171642326</td>\n",
       "      <td>6</td>\n",
       "      <td>2017-05-21 14:43:51</td>\n",
       "      <td>2017-05-21 15:02:30</td>\n",
       "      <td>1119</td>\n",
       "      <td>186.50</td>\n",
       "    </tr>\n",
       "    <tr>\n",
       "      <th>22724</th>\n",
       "      <td>login7</td>\n",
       "      <td>198294027</td>\n",
       "      <td>1</td>\n",
       "      <td>2017-05-31 12:05:38</td>\n",
       "      <td>2017-05-31 12:23:04</td>\n",
       "      <td>1046</td>\n",
       "      <td>1046.00</td>\n",
       "    </tr>\n",
       "  </tbody>\n",
       "</table>\n",
       "</div>"
      ],
      "text/plain": [
       "           login        tid  Microtasks         assigned_ts  \\\n",
       "545857  login595  194960462           1 2017-05-11 13:26:43   \n",
       "656628  login718  190565212           1 2017-04-20 18:25:48   \n",
       "331930  login345  191327804           1 2017-04-23 14:30:30   \n",
       "633676  login698  184144100           2 2017-04-27 10:10:38   \n",
       "420585  login464  192519516           7 2017-04-28 12:03:39   \n",
       "257712  login250  195509666           1 2017-05-15 09:56:15   \n",
       "683569  login745  191097268           2 2017-04-22 15:15:57   \n",
       "255904  login250  190724728           2 2017-04-22 03:45:57   \n",
       "166667  login153  171642326           6 2017-05-21 14:43:51   \n",
       "22724     login7  198294027           1 2017-05-31 12:05:38   \n",
       "\n",
       "                 closed_ts  time_per_task  av_time_per_microtask  \n",
       "545857 2017-05-12 08:24:33          68270               68270.00  \n",
       "656628 2017-04-20 18:26:16             28                  28.00  \n",
       "331930 2017-04-23 14:35:15            285                 285.00  \n",
       "633676 2017-04-27 10:14:03            205                 102.50  \n",
       "420585 2017-04-28 12:14:24            645                  92.14  \n",
       "257712 2017-05-15 09:56:32             17                  17.00  \n",
       "683569 2017-04-22 15:17:07             70                  35.00  \n",
       "255904 2017-04-22 03:49:14            197                  98.50  \n",
       "166667 2017-05-21 15:02:30           1119                 186.50  \n",
       "22724  2017-05-31 12:23:04           1046                1046.00  "
      ]
     },
     "execution_count": 8,
     "metadata": {},
     "output_type": "execute_result"
    }
   ],
   "source": [
    "db.sample(10)"
   ]
  },
  {
   "cell_type": "markdown",
   "metadata": {},
   "source": [
    "В вводной информации было отмечено, что: \n",
    "    1 все задания однотипны \n",
    "    2 время назначения задания асессору и начало его работы над заданием могут не совпадать\n",
    "\n",
    "Делаем вывод, что если однотипны задания, то однотипны и микрозадания. Следовательно, в случаях, когда асессор приступил к выполнению задания не сразу длительность выполнения им конкретного задания будет велика в сравнении со средней затратой по времени выполнения однотипных заданий. Вычислить эти отклонения поможет поиск выбросов."
   ]
  },
  {
   "cell_type": "markdown",
   "metadata": {},
   "source": [
    "### ОЧИСТКА ДАННЫХ"
   ]
  },
  {
   "cell_type": "code",
   "execution_count": 24,
   "metadata": {},
   "outputs": [],
   "source": [
    "#функция по отбрасыванию статистических выбросов \n",
    "def outliers(column):\n",
    "    Q1 = column.quantile(0.25)\n",
    "    Q3 = column.quantile(0.75)\n",
    "    IQR = Q3-Q1\n",
    "    l_boundary=Q1-1.5*IQR\n",
    "    h_boundary=Q3+1.5*IQR\n",
    "    \n",
    "    outliers = column[~column.between(l_boundary, h_boundary)]\n",
    "    n_outl=outliers.count()\n",
    "    p_outl=np.round(n_outl*100/len(db),2)\n",
    "    print('Minor boundries are ({},{})\\n There are {} or {}% outlying values'\\\n",
    "          .format(l_boundary,h_boundary,n_outl,p_outl))\n",
    "    \n",
    "    inp=input('Clear outliers?\\n Input Y (for yes) or N (for no): ')\n",
    "    \n",
    "    if inp=='Y': \n",
    "        if (type(l_boundary)==int)|(type(l_boundary)==np.float64):\n",
    "            column=column[column.between(l_boundary, h_boundary)]\n",
    "        else: \n",
    "            column=column[column.between(str(l_boundary), str(h_boundary))]\n",
    "    else: \n",
    "        column=column\n",
    "    \n",
    "    return column"
   ]
  },
  {
   "cell_type": "code",
   "execution_count": 13,
   "metadata": {},
   "outputs": [
    {
     "name": "stdout",
     "output_type": "stream",
     "text": [
      "Minor boundries are (-180.18500000000003,398.975)\n",
      " There are 94394 or 13.45% outlying values\n",
      "Clear outliers?\n",
      " Input Y (for yes) or N (for no): Y\n"
     ]
    },
    {
     "data": {
      "text/plain": [
       "count    607433.000000\n",
       "mean         90.875643\n",
       "std          81.649168\n",
       "min           0.220000\n",
       "25%          33.000000\n",
       "50%          62.000000\n",
       "75%         119.000000\n",
       "max         398.880000\n",
       "Name: av_time_per_microtask, dtype: float64"
      ]
     },
     "execution_count": 13,
     "metadata": {},
     "output_type": "execute_result"
    }
   ],
   "source": [
    "cleaned_db=outliers(db['av_time_per_microtask']).describe()\n",
    "cleaned_db"
   ]
  },
  {
   "cell_type": "markdown",
   "metadata": {},
   "source": [
    "### АНАЛИЗ И УМОЗАКЛЮЧЕНИЕ"
   ]
  },
  {
   "cell_type": "markdown",
   "metadata": {},
   "source": [
    "Доля выбросов в общей таблице сравнительно невелика: 13,45%, поэтому от них можно избавиться  для получения данных больше соответствующих реальности. На основании уже очищенных данных мы можем посчитать доверительный интервал затрат по времени на выполнение одного микрозадания с точностью 99%. "
   ]
  },
  {
   "cell_type": "code",
   "execution_count": 25,
   "metadata": {},
   "outputs": [],
   "source": [
    "def confidence_interval_t(alpha, s, n, mean):\n",
    "    value = -t.ppf(alpha / 2, n - 1) * s / math.sqrt(n)\n",
    "    return mean - value, mean + value"
   ]
  },
  {
   "cell_type": "code",
   "execution_count": 26,
   "metadata": {},
   "outputs": [
    {
     "data": {
      "text/plain": [
       "(61.70592927275494, 62.29407072724506)"
      ]
     },
     "execution_count": 26,
     "metadata": {},
     "output_type": "execute_result"
    }
   ],
   "source": [
    "alpha=0.005\n",
    "s=cleaned_db[2]\n",
    "n=cleaned_db[0]\n",
    "mean=cleaned_db[5]\n",
    "confidence_interval_t(alpha, s, n, mean)"
   ]
  },
  {
   "cell_type": "markdown",
   "metadata": {},
   "source": [
    "Полученный результат указывает на то, что в 99% случаев на выполнение одного микрозадания в среднем сазтрачивается от 61,70 до 62,29 секунд. Нам известно, что за 30 секунд рабочего времени асессор получает N руб. Делим средние затраты на одно микрозадание на 30 секунд."
   ]
  },
  {
   "cell_type": "code",
   "execution_count": 201,
   "metadata": {},
   "outputs": [
    {
     "name": "stdout",
     "output_type": "stream",
     "text": [
      "2.06 2.08\n"
     ]
    }
   ],
   "source": [
    "l_b=61.71/30\n",
    "h_b=62.29/30\n",
    "print(round(l_b,2), round(h_b,2))"
   ]
  },
  {
   "cell_type": "markdown",
   "metadata": {},
   "source": [
    "Получается, что справедливая оплата за выполнение одного микрозадания должна лежать в интервале [2,06N, 2,08N] руб."
   ]
  }
 ],
 "metadata": {
  "kernelspec": {
   "display_name": "Python 3",
   "language": "python",
   "name": "python3"
  },
  "language_info": {
   "codemirror_mode": {
    "name": "ipython",
    "version": 3
   },
   "file_extension": ".py",
   "mimetype": "text/x-python",
   "name": "python",
   "nbconvert_exporter": "python",
   "pygments_lexer": "ipython3",
   "version": "3.7.6"
  },
  "toc": {
   "base_numbering": 1,
   "nav_menu": {},
   "number_sections": true,
   "sideBar": true,
   "skip_h1_title": false,
   "title_cell": "Table of Contents",
   "title_sidebar": "Contents",
   "toc_cell": false,
   "toc_position": {},
   "toc_section_display": true,
   "toc_window_display": false
  }
 },
 "nbformat": 4,
 "nbformat_minor": 4
}
